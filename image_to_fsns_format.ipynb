{
 "cells": [
  {
   "cell_type": "code",
   "execution_count": 9,
   "metadata": {
    "collapsed": true
   },
   "outputs": [],
   "source": [
    "from scipy import misc\n",
    "from imgaug import augmenters as iaa\n",
    "import numpy as np\n",
    "import glob\n",
    "import cv2\n",
    "import os\n"
   ]
  },
  {
   "cell_type": "code",
   "execution_count": 10,
   "metadata": {},
   "outputs": [
    {
     "name": "stdout",
     "output_type": "stream",
     "text": [
      "28\n"
     ]
    }
   ],
   "source": [
    "image_cnt = 0\n",
    "\n",
    "for image_path in glob.glob(\"./tmp/*.png\"):\n",
    "    \n",
    "    image_cnt = image_cnt + 1\n",
    "    \n",
    "    # license plate number\n",
    "    base=os.path.basename(image_path)\n",
    "    license_plate = os.path.splitext(base)[0]\n",
    "    \n",
    "    # resize to 150*150\n",
    "    image = cv2.imread(image_path,1)\n",
    "    image = cv2.resize(image, (150, 150))\n",
    "    vis = np.concatenate((image, image, image, image), axis=1)\n",
    "    \n",
    "    path = '/media/ryk/ML_disk/EyesInTheSky_local/EyesInTheSky/pkg/tflab/objdetect/license/resized/'\n",
    "    file_name = license_plate + '.png'\n",
    "    cv2.imwrite(os.path.join(path, file_name), vis)\n",
    "    \n",
    "    \n",
    "    # blur image by a sigma of 1.0\n",
    "    blurer = iaa.GaussianBlur(0.5)\n",
    "    image_blurred = blurer.augment_image(image)\n",
    "    vis = np.concatenate((image_blurred, image_blurred, image_blurred, image_blurred), axis=1)\n",
    "    \n",
    "    path = '/tmp/temp/blurred'\n",
    "    file_name = license_plate + '.png'\n",
    "    cv2.imwrite(os.path.join(path, file_name), vis)\n",
    "    \n",
    "    # rotate blurred images\n",
    "    rotater = iaa.Affine(rotate=30)\n",
    "    image_rotated = rotater.augment_image(image_blurred) \n",
    "    vis = np.concatenate((image_rotated, image_rotated, image_rotated, image_rotated), axis=1)\n",
    "    \n",
    "    path = '/tmp/temp/rotate_blurred'\n",
    "    file_name = license_plate + '.png'\n",
    "    cv2.imwrite(os.path.join(path, file_name), vis)\n",
    "    \n",
    "    \n",
    "    # add some flavor on all images\n",
    "    season = iaa.CoarseSaltAndPepper(p=0.1, size_percent=0.8)\n",
    "    image_flavored = season.augment_image(image)\n",
    "    vis = np.concatenate((image_flavored, image_flavored, image_flavored, image_flavored), axis=1)\n",
    "    \n",
    "    path = '/media/ryk/ML_disk/EyesInTheSky_local/EyesInTheSky/pkg/tflab/objdetect/license/license_plate_iphone/flavored'\n",
    "    file_name = license_plate + '.png'\n",
    "    cv2.imwrite(os.path.join(path, file_name), vis)\n",
    "    \n",
    "    # lightened images\n",
    "    lighter = iaa.Multiply(5, per_channel=True)\n",
    "    image_lightened = lighter.augment_image(image) \n",
    "    vis = np.concatenate((image_lightened, image_lightened, image_lightened, image_lightened), axis=1)\n",
    "    \n",
    "    path = '/tmp/temp/lightened'\n",
    "    file_name = license_plate + '.png'\n",
    "    cv2.imwrite(os.path.join(path, file_name), vis)\n",
    "    \n",
    "    # darker and rotate -20\n",
    "    darker = iaa.Multiply(0.5, per_channel=True)\n",
    "    rotater_minus_20 = iaa.Affine(rotate=-20)\n",
    "    image_darkened = darker.augment_image(image)\n",
    "    image_rotated_minus_20 = rotater_minus_20.augment_image(image_darkened) \n",
    "    vis = np.concatenate((image_rotated_minus_20, image_rotated_minus_20, image_rotated_minus_20, image_rotated_minus_20), axis=1)\n",
    "    \n",
    "    path = '/tmp/temp/rotated_minus_20'\n",
    "    file_name = license_plate + '.png'\n",
    "    cv2.imwrite(os.path.join(path, file_name), vis)\n",
    "    \n",
    "    # edged blur images\n",
    "    edge_detecter = iaa.EdgeDetect(alpha=0.3)\n",
    "    image_edged = edge_detecter.augment_image(image_blurred) \n",
    "    vis = np.concatenate((image_edged, image_edged, image_edged, image_edged), axis=1)\n",
    "    \n",
    "    path = '/tmp/temp/edged'\n",
    "    file_name = license_plate + '.png'\n",
    "    cv2.imwrite(os.path.join(path, file_name), vis)\n",
    "    #print(license_plate)\n",
    "    \n",
    "    #crop_img_filename = 'crop_img'+ str(i) + '_' + str(cap.get(cv2.CAP_PROP_POS_FRAMES)) + 'video_2' + '.JPG'\n",
    "    #cv2.imwrite(crop_img_filename,crop_img)\n",
    "\n",
    "    #cv2.imshow(\"Image_rotater\", image_edged) \n",
    "    #cv2.waitKey(1000)\n",
    "    #cv2.destroyAllWindows()\n",
    "    \n",
    "print(image_cnt)"
   ]
  },
  {
   "cell_type": "code",
   "execution_count": null,
   "metadata": {
    "collapsed": true
   },
   "outputs": [],
   "source": []
  }
 ],
 "metadata": {
  "kernelspec": {
   "display_name": "Python 3",
   "language": "python",
   "name": "python3"
  },
  "language_info": {
   "codemirror_mode": {
    "name": "ipython",
    "version": 3
   },
   "file_extension": ".py",
   "mimetype": "text/x-python",
   "name": "python",
   "nbconvert_exporter": "python",
   "pygments_lexer": "ipython3",
   "version": "3.5.2"
  }
 },
 "nbformat": 4,
 "nbformat_minor": 2
}
